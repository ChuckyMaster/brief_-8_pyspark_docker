{
 "cells": [
  {
   "cell_type": "code",
   "execution_count": 5,
   "metadata": {},
   "outputs": [],
   "source": [
    "import pandas"
   ]
  },
  {
   "cell_type": "code",
   "execution_count": 6,
   "metadata": {},
   "outputs": [],
   "source": [
    "from pyspark.sql import SparkSession \n",
    "import pyspark.sql.functions as F"
   ]
  },
  {
   "cell_type": "code",
   "execution_count": 7,
   "metadata": {},
   "outputs": [],
   "source": [
    "spark = SparkSession.builder.master(\"local[*]\").appName(\"pyspark_migration\").getOrCreate()"
   ]
  },
  {
   "cell_type": "code",
   "execution_count": 8,
   "metadata": {},
   "outputs": [],
   "source": [
    "matrix = [\n",
    "\n",
    "[' Ricky', 4879320143, '2022-09-05 11:23:59', True],\n",
    "\n",
    "['Simon', 4879320143, '2022-09-05 11:23:59', True],\n",
    "\n",
    "['Sergio', 4879320143, '2022-09-05 11:23:59', True],\n",
    "\n",
    "['Pedrito', 4879320143, '2022-09-07 11:23:59', True],\n",
    "\n",
    "['jJuenito', 4879320143, '2022-09-08 11:23:59', True],\n",
    "\n",
    "['Pepe', 4879320143, '2022-09-09 11:23:59', True],\n",
    "\n",
    "['Liusa', 4879320143, '2022-09-05 11:23:59', True],\n",
    "\n",
    "]\n",
    "\n",
    "columns = ['name', 'dni', 'date', 'is_human']"
   ]
  },
  {
   "cell_type": "code",
   "execution_count": 9,
   "metadata": {},
   "outputs": [],
   "source": [
    "df = spark.createDataFrame(matrix, columns)"
   ]
  },
  {
   "cell_type": "code",
   "execution_count": 10,
   "metadata": {},
   "outputs": [
    {
     "name": "stdout",
     "output_type": "stream",
     "text": [
      "+--------+----------+-------------------+--------+---------------+\n",
      "|    name|       dni|               date|is_human|constant\\_value|\n",
      "+--------+----------+-------------------+--------+---------------+\n",
      "|   Ricky|4879320143|2022-09-05 11:23:59|    true|              1|\n",
      "|   Simon|4879320143|2022-09-05 11:23:59|    true|              1|\n",
      "|  Sergio|4879320143|2022-09-05 11:23:59|    true|              1|\n",
      "| Pedrito|4879320143|2022-09-07 11:23:59|    true|              1|\n",
      "|jJuenito|4879320143|2022-09-08 11:23:59|    true|              1|\n",
      "|    Pepe|4879320143|2022-09-09 11:23:59|    true|              1|\n",
      "|   Liusa|4879320143|2022-09-05 11:23:59|    true|              1|\n",
      "+--------+----------+-------------------+--------+---------------+\n",
      "\n"
     ]
    }
   ],
   "source": [
    "df_with_constant = df.withColumn( \"constant\\_value\", F.lit(1))\n",
    "\n",
    "df_with_constant.show()"
   ]
  },
  {
   "cell_type": "code",
   "execution_count": 11,
   "metadata": {},
   "outputs": [],
   "source": [
    "# 1. `lit`: Ajouter une colonne avec une valeur constante"
   ]
  },
  {
   "cell_type": "code",
   "execution_count": 12,
   "metadata": {},
   "outputs": [
    {
     "name": "stdout",
     "output_type": "stream",
     "text": [
      "+----+\n",
      "|test|\n",
      "+----+\n",
      "|   2|\n",
      "|   2|\n",
      "|   2|\n",
      "|   2|\n",
      "|   2|\n",
      "|   2|\n",
      "|   2|\n",
      "+----+\n",
      "\n"
     ]
    }
   ],
   "source": [
    "df_lit = df.select(F.lit(2).alias('test'))\n",
    "df_lit.show()\n"
   ]
  },
  {
   "cell_type": "code",
   "execution_count": 13,
   "metadata": {},
   "outputs": [],
   "source": [
    "# 2. `col` et `when`: Créer une colonne avec une condition"
   ]
  },
  {
   "cell_type": "code",
   "execution_count": 14,
   "metadata": {},
   "outputs": [
    {
     "name": "stdout",
     "output_type": "stream",
     "text": [
      "+--------+----------+-------------------+--------+---------+\n",
      "|    name|       dni|               date|is_human|  new col|\n",
      "+--------+----------+-------------------+--------+---------+\n",
      "|   Ricky|4879320143|2022-09-05 11:23:59|    true|not found|\n",
      "|   Simon|4879320143|2022-09-05 11:23:59|    true|not found|\n",
      "|  Sergio|4879320143|2022-09-05 11:23:59|    true|not found|\n",
      "| Pedrito|4879320143|2022-09-07 11:23:59|    true|    found|\n",
      "|jJuenito|4879320143|2022-09-08 11:23:59|    true|    found|\n",
      "|    Pepe|4879320143|2022-09-09 11:23:59|    true|not found|\n",
      "|   Liusa|4879320143|2022-09-05 11:23:59|    true|not found|\n",
      "+--------+----------+-------------------+--------+---------+\n",
      "\n"
     ]
    }
   ],
   "source": [
    "\n",
    "\n",
    "df_col = df.withColumn(\n",
    "    \"new col\",\n",
    "    F.when(F.expr(\"name LIKE '%to'\"), \"found\")\n",
    "     .when(df[\"name\"] == \"Alice\", \"Alice found\")\n",
    "     .otherwise(\"not found\")\n",
    ")\n",
    "\n",
    "df_col.show()\n"
   ]
  },
  {
   "cell_type": "code",
   "execution_count": 15,
   "metadata": {},
   "outputs": [],
   "source": [
    "# 3. `concat`: Combiner des colonnes en une seule chaîne"
   ]
  },
  {
   "cell_type": "code",
   "execution_count": 16,
   "metadata": {},
   "outputs": [
    {
     "name": "stdout",
     "output_type": "stream",
     "text": [
      "+--------------+--------+----------+-------------------+\n",
      "|        humain|    name|       dni|               date|\n",
      "+--------------+--------+----------+-------------------+\n",
      "|true4879320143|   Ricky|4879320143|2022-09-05 11:23:59|\n",
      "|true4879320143|   Simon|4879320143|2022-09-05 11:23:59|\n",
      "|true4879320143|  Sergio|4879320143|2022-09-05 11:23:59|\n",
      "|true4879320143| Pedrito|4879320143|2022-09-07 11:23:59|\n",
      "|true4879320143|jJuenito|4879320143|2022-09-08 11:23:59|\n",
      "|true4879320143|    Pepe|4879320143|2022-09-09 11:23:59|\n",
      "|true4879320143|   Liusa|4879320143|2022-09-05 11:23:59|\n",
      "+--------------+--------+----------+-------------------+\n",
      "\n"
     ]
    }
   ],
   "source": [
    "df_concat = df.select(F.concat(df.is_human, df.dni).alias(\"humain\"), \"name\", \"dni\", \"date\")\n",
    "df_concat.show()"
   ]
  },
  {
   "cell_type": "code",
   "execution_count": 17,
   "metadata": {},
   "outputs": [],
   "source": [
    "# 4. `month`, `year`, `quarter`: Extraire le mois, l'année et le trimestre\n",
    "#df = df.withColumn('date', F.to_date(df['date'], 'yyyy-MM-dd'))"
   ]
  },
  {
   "cell_type": "code",
   "execution_count": 18,
   "metadata": {},
   "outputs": [
    {
     "name": "stdout",
     "output_type": "stream",
     "text": [
      "+--------+----------+-------------------+--------+-------+\n",
      "|    name|       dni|               date|is_human|quarter|\n",
      "+--------+----------+-------------------+--------+-------+\n",
      "|   Ricky|4879320143|2022-09-05 11:23:59|    true|      3|\n",
      "|   Simon|4879320143|2022-09-05 11:23:59|    true|      3|\n",
      "|  Sergio|4879320143|2022-09-05 11:23:59|    true|      3|\n",
      "| Pedrito|4879320143|2022-09-07 11:23:59|    true|      3|\n",
      "|jJuenito|4879320143|2022-09-08 11:23:59|    true|      3|\n",
      "|    Pepe|4879320143|2022-09-09 11:23:59|    true|      3|\n",
      "|   Liusa|4879320143|2022-09-05 11:23:59|    true|      3|\n",
      "+--------+----------+-------------------+--------+-------+\n",
      "\n"
     ]
    }
   ],
   "source": [
    "df_quarter = df.withColumn('quarter', F.quarter(df['date']))\n",
    "df_quarter.show()"
   ]
  },
  {
   "cell_type": "code",
   "execution_count": 19,
   "metadata": {},
   "outputs": [
    {
     "name": "stdout",
     "output_type": "stream",
     "text": [
      "+--------+----------+-------------------+--------+----+\n",
      "|    name|       dni|               date|is_human|year|\n",
      "+--------+----------+-------------------+--------+----+\n",
      "|   Ricky|4879320143|2022-09-05 11:23:59|    true|2022|\n",
      "|   Simon|4879320143|2022-09-05 11:23:59|    true|2022|\n",
      "|  Sergio|4879320143|2022-09-05 11:23:59|    true|2022|\n",
      "| Pedrito|4879320143|2022-09-07 11:23:59|    true|2022|\n",
      "|jJuenito|4879320143|2022-09-08 11:23:59|    true|2022|\n",
      "|    Pepe|4879320143|2022-09-09 11:23:59|    true|2022|\n",
      "|   Liusa|4879320143|2022-09-05 11:23:59|    true|2022|\n",
      "+--------+----------+-------------------+--------+----+\n",
      "\n"
     ]
    }
   ],
   "source": [
    "df_year = df.withColumn('year', F.year(df['date']))\n",
    "df_year.show()"
   ]
  },
  {
   "cell_type": "code",
   "execution_count": 20,
   "metadata": {},
   "outputs": [
    {
     "name": "stdout",
     "output_type": "stream",
     "text": [
      "+--------+----------+-------------------+--------+---------+\n",
      "|    name|       dni|               date|is_human|    month|\n",
      "+--------+----------+-------------------+--------+---------+\n",
      "|   Ricky|4879320143|2022-09-05 11:23:59|    true|September|\n",
      "|   Simon|4879320143|2022-09-05 11:23:59|    true|September|\n",
      "|  Sergio|4879320143|2022-09-05 11:23:59|    true|September|\n",
      "| Pedrito|4879320143|2022-09-07 11:23:59|    true|September|\n",
      "|jJuenito|4879320143|2022-09-08 11:23:59|    true|September|\n",
      "|    Pepe|4879320143|2022-09-09 11:23:59|    true|September|\n",
      "|   Liusa|4879320143|2022-09-05 11:23:59|    true|September|\n",
      "+--------+----------+-------------------+--------+---------+\n",
      "\n"
     ]
    }
   ],
   "source": [
    "df_month = df.withColumn(\"month\", F.date_format('date', 'MMMM'))\n",
    "    #.withColumn(\"year\", F.date_format('date', 'y')) \\\n",
    "   # .withColumn(\"quarter\", F.date_format('date', 'QQQQ'))\n",
    "\n",
    "df_month.show()"
   ]
  },
  {
   "cell_type": "code",
   "execution_count": 21,
   "metadata": {},
   "outputs": [],
   "source": [
    "# 5. `abs` et `floor`: Appliquer des fonctions mathématiques"
   ]
  },
  {
   "cell_type": "code",
   "execution_count": 22,
   "metadata": {},
   "outputs": [
    {
     "name": "stdout",
     "output_type": "stream",
     "text": [
      "+---+--------------+\n",
      "|val|absolute_value|\n",
      "+---+--------------+\n",
      "| -8|            -8|\n",
      "|  5|             5|\n",
      "| -4|            -4|\n",
      "+---+--------------+\n",
      "\n"
     ]
    }
   ],
   "source": [
    "\n",
    "# A REFAIRE MARCHE PAS\n",
    "\n",
    "data_abs = [(-8,), (5,), (-4,)]\n",
    "col = [\"val\"]\n",
    "\n",
    "df_abs = spark.createDataFrame(data_abs, col)\n",
    "\n",
    "df_result = df_abs.withColumn(\"absolute_value\", F.floor(df_abs[\"val\"]))\n",
    "\n",
    "df_result.show()"
   ]
  },
  {
   "cell_type": "code",
   "execution_count": 23,
   "metadata": {},
   "outputs": [
    {
     "name": "stdout",
     "output_type": "stream",
     "text": [
      "+---+-----------+\n",
      "|val|floor_value|\n",
      "+---+-----------+\n",
      "| -8|         -8|\n",
      "|  5|          5|\n",
      "| -4|         -4|\n",
      "+---+-----------+\n",
      "\n"
     ]
    }
   ],
   "source": [
    "data_floor = [(-8,), (5,), (-4,)]\n",
    "col = [\"val\"]\n",
    "\n",
    "# Création du DataFrame\n",
    "df_floor = spark.createDataFrame(data_abs, col)\n",
    "\n",
    "# Application de la fonction abs() sur la colonne 'val'\n",
    "df_result = df_floor.withColumn(\"floor_value\", F.floor(df_floor[\"val\"]))\n",
    "\n",
    "# Afficher le résultat\n",
    "df_result.show()"
   ]
  },
  {
   "cell_type": "code",
   "execution_count": 24,
   "metadata": {},
   "outputs": [],
   "source": [
    "# 6. `concat_ws`: Concaténer avec un séparateur"
   ]
  },
  {
   "cell_type": "code",
   "execution_count": 25,
   "metadata": {},
   "outputs": [
    {
     "name": "stdout",
     "output_type": "stream",
     "text": [
      "+-------------------+\n",
      "|                  n|\n",
      "+-------------------+\n",
      "|   Ricky_4879320143|\n",
      "|   Simon_4879320143|\n",
      "|  Sergio_4879320143|\n",
      "| Pedrito_4879320143|\n",
      "|jJuenito_4879320143|\n",
      "|    Pepe_4879320143|\n",
      "|   Liusa_4879320143|\n",
      "+-------------------+\n",
      "\n"
     ]
    }
   ],
   "source": [
    "df_concat_ws = df.select(F.concat_ws('_', df.name, df.dni).alias('n'))\n",
    "\n",
    "df_concat_ws.show()"
   ]
  },
  {
   "cell_type": "code",
   "execution_count": 26,
   "metadata": {},
   "outputs": [],
   "source": [
    "# 7. `array_distinct`, `collect_list`, `collect_set`: Utiliser des fonctions d'agrégation sur des arrays"
   ]
  },
  {
   "cell_type": "code",
   "execution_count": 27,
   "metadata": {},
   "outputs": [
    {
     "name": "stdout",
     "output_type": "stream",
     "text": [
      "+------------+\n",
      "|        data|\n",
      "+------------+\n",
      "|[1, 2, 3, 2]|\n",
      "|[4, 5, 5, 4]|\n",
      "+------------+\n",
      "\n",
      "+--------------------+\n",
      "|array_distinct(data)|\n",
      "+--------------------+\n",
      "|           [1, 2, 3]|\n",
      "|              [4, 5]|\n",
      "+--------------------+\n",
      "\n"
     ]
    }
   ],
   "source": [
    "df_array_distinct = spark.createDataFrame([([1, 2, 3, 2],), ([4, 5, 5, 4],)], ['data'])\n",
    "\n",
    "df_array_distinct.show()\n",
    "\n",
    "p = df_array_distinct.select(F.array_distinct(df_array_distinct.data))\n",
    "\n",
    "p.show()"
   ]
  },
  {
   "cell_type": "code",
   "execution_count": 28,
   "metadata": {},
   "outputs": [
    {
     "name": "stdout",
     "output_type": "stream",
     "text": [
      "+-----+----------+\n",
      "| name| languages|\n",
      "+-----+----------+\n",
      "|James|      Java|\n",
      "|James|    Python|\n",
      "|James|    Python|\n",
      "| Anna|       PHP|\n",
      "| Anna|Javascript|\n",
      "|Maria|      Java|\n",
      "|Maria|       C++|\n",
      "|James|     Scala|\n",
      "| Anna|       PHP|\n",
      "| Anna|      HTML|\n",
      "+-----+----------+\n",
      "\n",
      "+-----+-----------------------------+\n",
      "|name |languages                    |\n",
      "+-----+-----------------------------+\n",
      "|James|[Java, Python, Python, Scala]|\n",
      "|Anna |[PHP, Javascript, PHP, HTML] |\n",
      "|Maria|[Java, C++]                  |\n",
      "+-----+-----------------------------+\n",
      "\n",
      "+-----+--------------------+\n",
      "| name|           languages|\n",
      "+-----+--------------------+\n",
      "|James|[Scala, Java, Pyt...|\n",
      "| Anna|[PHP, Javascript,...|\n",
      "|Maria|         [Java, C++]|\n",
      "+-----+--------------------+\n",
      "\n"
     ]
    }
   ],
   "source": [
    "data_collect = [('James','Java'),\n",
    "  ('James','Python'),\n",
    "  ('James','Python'),\n",
    "  ('Anna','PHP'),\n",
    "  ('Anna','Javascript'),\n",
    "  ('Maria','Java'),\n",
    "  ('Maria','C++'),\n",
    "  ('James','Scala'),\n",
    "  ('Anna','PHP'),\n",
    "  ('Anna','HTML')\n",
    "]\n",
    "\n",
    "df_collect = spark.createDataFrame(data_collect,schema=[\"name\",\"languages\"])\n",
    "\n",
    "df_collect.show()\n",
    "\n",
    "#******************************************************************\n",
    "#-----------------------collect_list()----------------------------\n",
    "#collect_list permet de colecter les multiples données d'une personne, pour eviter d'avoir plusieurs colonnes 'James'\n",
    "#******************************************************************\n",
    "\n",
    "\n",
    "\n",
    "df_colist = df_collect.groupBy(\"name\").agg(F.collect_list(\"languages\") \\\n",
    "                                           .alias(\"languages\"))\n",
    "\n",
    "df_colist.show(truncate=False)\n",
    "\n",
    "#******************************************************************\n",
    "#-----------------------collect_set()----------------------------\n",
    "#ça marche comme collect_list sauf que set elimine les resultats dupliquer en une unique valeur\n",
    "#******************************************************************\n",
    "\n",
    "df_colset = df_collect.groupBy(\"name\").agg(F.collect_set(\"languages\") \\\n",
    "                                           .alias(\"languages\"))\n",
    "\n",
    "df_colset.show()"
   ]
  },
  {
   "cell_type": "code",
   "execution_count": 29,
   "metadata": {},
   "outputs": [],
   "source": [
    "# 8. `split` et `trim`: Nettoyer et diviser des chaînes\n"
   ]
  },
  {
   "cell_type": "code",
   "execution_count": 41,
   "metadata": {},
   "outputs": [
    {
     "name": "stdout",
     "output_type": "stream",
     "text": [
      "+---------+----------+--------+----------+\n",
      "|firstname|middlename|lastname|dob       |\n",
      "+---------+----------+--------+----------+\n",
      "|James    |          |Smith   |1991-04-01|\n",
      "|Michael  |Rose      |        |2000-05-19|\n",
      "|Robert   |          |Williams|1978-09-05|\n",
      "|Maria    |Anne      |Jones   |1967-12-01|\n",
      "|Jen      |Mary      |Brown   |1980-02-17|\n",
      "+---------+----------+--------+----------+\n",
      "\n",
      "+---------+----------+--------+----------+----+-----+---+\n",
      "|firstname|middlename|lastname|dob       |year|month|day|\n",
      "+---------+----------+--------+----------+----+-----+---+\n",
      "|James    |          |Smith   |1991-04-01|1991|04   |01 |\n",
      "|Michael  |Rose      |        |2000-05-19|2000|05   |19 |\n",
      "|Robert   |          |Williams|1978-09-05|1978|09   |05 |\n",
      "|Maria    |Anne      |Jones   |1967-12-01|1967|12   |01 |\n",
      "|Jen      |Mary      |Brown   |1980-02-17|1980|02   |17 |\n",
      "+---------+----------+--------+----------+----+-----+---+\n",
      "\n"
     ]
    }
   ],
   "source": [
    "#******************************************************************\n",
    "#-----------------------SPLIT()---------------------------\n",
    "#******************************************************************\n",
    "\n",
    "data_split = [('James','','Smith','1991-04-01'),\n",
    "  ('Michael','Rose','','2000-05-19'),\n",
    "  ('Robert','','Williams','1978-09-05'),\n",
    "  ('Maria','Anne','Jones','1967-12-01'),\n",
    "  ('Jen','Mary','Brown','1980-02-17')\n",
    "]\n",
    "\n",
    "columns=[\"firstname\",\"middlename\",\"lastname\",\"dob\"]\n",
    "df_split=spark.createDataFrame(data_split,columns)\n",
    "#df_split.printSchema()\n",
    "df_split.show(truncate=False)\n",
    "\n",
    "#creer une fonction pour les reutiliser\n",
    "split_col = F.split(df_split['dob'], '-')\n",
    "df_split_split = df_split.withColumn('year', split_col.getItem(0)) \\\n",
    "       .withColumn('month', split_col.getItem(1)) \\\n",
    "       .withColumn('day', split_col.getItem(2))\n",
    "df_split_split.show(truncate=False) \n"
   ]
  },
  {
   "cell_type": "code",
   "execution_count": 32,
   "metadata": {},
   "outputs": [
    {
     "name": "stdout",
     "output_type": "stream",
     "text": [
      "+--------+----------+-------------------+--------+\n",
      "|    name|       dni|               date|is_human|\n",
      "+--------+----------+-------------------+--------+\n",
      "|   Ricky|4879320143|2022-09-05 11:23:59|    true|\n",
      "|   Simon|4879320143|2022-09-05 11:23:59|    true|\n",
      "|  Sergio|4879320143|2022-09-05 11:23:59|    true|\n",
      "| Pedrito|4879320143|2022-09-07 11:23:59|    true|\n",
      "|jJuenito|4879320143|2022-09-08 11:23:59|    true|\n",
      "|    Pepe|4879320143|2022-09-09 11:23:59|    true|\n",
      "|   Liusa|4879320143|2022-09-05 11:23:59|    true|\n",
      "+--------+----------+-------------------+--------+\n",
      "\n",
      "+--------+----------+-------------------+--------+\n",
      "|    name|       dni|               date|is_human|\n",
      "+--------+----------+-------------------+--------+\n",
      "|   Ricky|4879320143|2022-09-05 11:23:59|    true|\n",
      "|   Simon|4879320143|2022-09-05 11:23:59|    true|\n",
      "|  Sergio|4879320143|2022-09-05 11:23:59|    true|\n",
      "| Pedrito|4879320143|2022-09-07 11:23:59|    true|\n",
      "|jJuenito|4879320143|2022-09-08 11:23:59|    true|\n",
      "|    Pepe|4879320143|2022-09-09 11:23:59|    true|\n",
      "|   Liusa|4879320143|2022-09-05 11:23:59|    true|\n",
      "+--------+----------+-------------------+--------+\n",
      "\n"
     ]
    }
   ],
   "source": [
    "#******************************************************************\n",
    "#-----------------------TRIM()---------------------------\n",
    "#Enlevé les espace blanc en debut ou fin de caractère de col, je vais utiliser \"dob\"\n",
    "#meme si j'ai l'impression qu'il n'en a pas besoin a cause de \"jJuanito\"\n",
    "#******************************************************************\n",
    "df.show()\n",
    "df_trim = df.withColumn(\"name\", F.trim(df.name))\n",
    "df_trim.show()"
   ]
  },
  {
   "cell_type": "code",
   "execution_count": null,
   "metadata": {},
   "outputs": [],
   "source": [
    "# 9. `explode`: Diviser une colonne de tableau en lignes distinctes"
   ]
  },
  {
   "cell_type": "code",
   "execution_count": 35,
   "metadata": {},
   "outputs": [
    {
     "name": "stdout",
     "output_type": "stream",
     "text": [
      "+-----+--------------------+\n",
      "| name|           languages|\n",
      "+-----+--------------------+\n",
      "|James|[Java, Python, Py...|\n",
      "| Anna|[PHP, Javascript,...|\n",
      "|Maria|         [Java, C++]|\n",
      "+-----+--------------------+\n",
      "\n",
      "+-----+----------+\n",
      "| name|       col|\n",
      "+-----+----------+\n",
      "|James|      Java|\n",
      "|James|    Python|\n",
      "|James|    Python|\n",
      "|James|     Scala|\n",
      "| Anna|       PHP|\n",
      "| Anna|Javascript|\n",
      "| Anna|       PHP|\n",
      "| Anna|      HTML|\n",
      "|Maria|      Java|\n",
      "|Maria|       C++|\n",
      "+-----+----------+\n",
      "\n"
     ]
    }
   ],
   "source": [
    "#******************************************************************\n",
    "#-----------------------Explode()---------------------------\n",
    "#Fonction qui me fait penser à \"collect_list()\", parce que explode va remettre les col key - value qui sont presente plusieurs fois\n",
    "#je recup \"df_colist\", qui à rassembler toute les valeur en communs d'une clé pour les mettre dans une meme row \"value\"\n",
    "#******************************************************************\n",
    "\n",
    "#je regarde l'etat de ce df pour être sûr\n",
    "df_colist.show()\n",
    "\n",
    "df_explode = df_colist.select(df_colist.name, F.explode(df_colist.languages))\n",
    "\n",
    "df_explode.show()\n",
    "#ptn j'suis une star ! "
   ]
  },
  {
   "cell_type": "code",
   "execution_count": null,
   "metadata": {},
   "outputs": [],
   "source": [
    "# 10. `lower`: Convertir des chaînes en minuscules"
   ]
  },
  {
   "cell_type": "code",
   "execution_count": 38,
   "metadata": {},
   "outputs": [
    {
     "name": "stdout",
     "output_type": "stream",
     "text": [
      "+-----+-----------+\n",
      "| name|upper(name)|\n",
      "+-----+-----------+\n",
      "|James|      JAMES|\n",
      "|James|      JAMES|\n",
      "|James|      JAMES|\n",
      "|James|      JAMES|\n",
      "| Anna|       ANNA|\n",
      "| Anna|       ANNA|\n",
      "| Anna|       ANNA|\n",
      "| Anna|       ANNA|\n",
      "|Maria|      MARIA|\n",
      "|Maria|      MARIA|\n",
      "+-----+-----------+\n",
      "\n",
      "+-----+-----------+\n",
      "| name|lower(name)|\n",
      "+-----+-----------+\n",
      "|James|      james|\n",
      "|James|      james|\n",
      "|James|      james|\n",
      "|James|      james|\n",
      "| Anna|       anna|\n",
      "| Anna|       anna|\n",
      "| Anna|       anna|\n",
      "| Anna|       anna|\n",
      "|Maria|      maria|\n",
      "|Maria|      maria|\n",
      "+-----+-----------+\n",
      "\n"
     ]
    }
   ],
   "source": [
    "df_upper = df_explode.select(df_explode.name, F.upper(df_explode.name))\n",
    "df_upper.show()\n",
    "\n",
    "df_lower = df_explode.select(df_upper.name, F.lower(df_upper.name))\n",
    "\n",
    "df_lower.show()\n",
    "\n",
    "#celui la je suis fière de moi je l'ai fait sans regarde LA DOC , \"just sayin'!\"\n",
    "\n"
   ]
  },
  {
   "cell_type": "code",
   "execution_count": null,
   "metadata": {},
   "outputs": [],
   "source": [
    "# 11. `select`: Sélectionner des colonnes spécifiques"
   ]
  },
  {
   "cell_type": "code",
   "execution_count": 43,
   "metadata": {},
   "outputs": [
    {
     "name": "stdout",
     "output_type": "stream",
     "text": [
      "+---------+----------+--------+----------+----+-----+---+\n",
      "|firstname|middlename|lastname|       dob|year|month|day|\n",
      "+---------+----------+--------+----------+----+-----+---+\n",
      "|    James|          |   Smith|1991-04-01|1991|   04| 01|\n",
      "|  Michael|      Rose|        |2000-05-19|2000|   05| 19|\n",
      "|   Robert|          |Williams|1978-09-05|1978|   09| 05|\n",
      "|    Maria|      Anne|   Jones|1967-12-01|1967|   12| 01|\n",
      "|      Jen|      Mary|   Brown|1980-02-17|1980|   02| 17|\n",
      "+---------+----------+--------+----------+----+-----+---+\n",
      "\n",
      "+----+-----+---+\n",
      "|year|month|day|\n",
      "+----+-----+---+\n",
      "|1991|   04| 01|\n",
      "|2000|   05| 19|\n",
      "|1978|   09| 05|\n",
      "|1967|   12| 01|\n",
      "|1980|   02| 17|\n",
      "+----+-----+---+\n",
      "\n"
     ]
    }
   ],
   "source": [
    "#Je vais utiliser le split et select le day month year\n",
    "\n",
    "df_split_split.show()\n",
    "\n",
    "df_split_split.select('year', 'month', 'day').show() #OK NICEEEEUUUUU\n",
    "\n",
    "\n"
   ]
  },
  {
   "cell_type": "code",
   "execution_count": 45,
   "metadata": {},
   "outputs": [
    {
     "name": "stdout",
     "output_type": "stream",
     "text": [
      "+---------+----------+--------+----------+----+-----+---+-------------------+\n",
      "|firstname|middlename|lastname|       dob|year|month|day|         is_dinosor|\n",
      "+---------+----------+--------+----------+----+-----+---+-------------------+\n",
      "|    James|          |   Smith|1991-04-01|1991|   04| 01|ofc you are dinosor|\n",
      "|  Michael|      Rose|        |2000-05-19|2000|   05| 19|ofc you are dinosor|\n",
      "|   Robert|          |Williams|1978-09-05|1978|   09| 05|ofc you are dinosor|\n",
      "|    Maria|      Anne|   Jones|1967-12-01|1967|   12| 01|ofc you are dinosor|\n",
      "|      Jen|      Mary|   Brown|1980-02-17|1980|   02| 17|ofc you are dinosor|\n",
      "+---------+----------+--------+----------+----+-----+---+-------------------+\n",
      "\n"
     ]
    }
   ],
   "source": [
    "## 12. `withColumn`: Créer une nouvelle colonne\n",
    "\n",
    "df_newcol = df_split_split.withColumn(\"is_dinosor\", F.lit('ofc you are dinosor')).show()\n",
    "\n",
    "#ca s'écrit pas comme ca dinosor en anglais "
   ]
  },
  {
   "cell_type": "code",
   "execution_count": 54,
   "metadata": {},
   "outputs": [
    {
     "ename": "AttributeError",
     "evalue": "'NoneType' object has no attribute 'printSchema'",
     "output_type": "error",
     "traceback": [
      "\u001b[1;31m---------------------------------------------------------------------------\u001b[0m",
      "\u001b[1;31mAttributeError\u001b[0m                            Traceback (most recent call last)",
      "Cell \u001b[1;32mIn[54], line 5\u001b[0m\n\u001b[0;32m      1\u001b[0m \u001b[38;5;66;03m# 13. `withColumnRenamed`: Renommer une colonne\u001b[39;00m\n\u001b[0;32m      2\u001b[0m \n\u001b[0;32m      3\u001b[0m \u001b[38;5;66;03m#df_renamed = df_newcol.withColumnRenamed(\"is_dinosor\", \"dinosaurio\")\u001b[39;00m\n\u001b[1;32m----> 5\u001b[0m \u001b[43mdf_newcol\u001b[49m\u001b[38;5;241;43m.\u001b[39;49m\u001b[43mprintSchema\u001b[49m()\n",
      "\u001b[1;31mAttributeError\u001b[0m: 'NoneType' object has no attribute 'printSchema'"
     ]
    }
   ],
   "source": [
    "# 13. `withColumnRenamed`: Renommer une colonne\n",
    "\n",
    "#df_renamed = df_newcol.withColumnRenamed(\"is_dinosor\", \"dinosaurio\")\n",
    "\n",
    "df_newcol.printSchema()\n"
   ]
  }
 ],
 "metadata": {
  "kernelspec": {
   "display_name": "Python 3",
   "language": "python",
   "name": "python3"
  },
  "language_info": {
   "codemirror_mode": {
    "name": "ipython",
    "version": 3
   },
   "file_extension": ".py",
   "mimetype": "text/x-python",
   "name": "python",
   "nbconvert_exporter": "python",
   "pygments_lexer": "ipython3",
   "version": "3.11.9"
  }
 },
 "nbformat": 4,
 "nbformat_minor": 2
}
